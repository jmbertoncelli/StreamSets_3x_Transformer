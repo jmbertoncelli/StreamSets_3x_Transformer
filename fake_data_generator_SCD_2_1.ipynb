{
 "cells": [
  {
   "cell_type": "markdown",
   "metadata": {},
   "source": [
    "# SCD Type 2 #2 run to initiate next delta loads data"
   ]
  },
  {
   "cell_type": "markdown",
   "metadata": {},
   "source": [
    "# Generate Fake Data using [faker](https://github.com/joke2k/faker)"
   ]
  },
  {
   "cell_type": "markdown",
   "metadata": {},
   "source": [
    "### Faker is a Python package that generates fake data for you. Whether you need to bootstrap your database, create good-looking XML documents, fill-in your persistence to stress test it, or anonymize data taken from a production service, Faker is for you."
   ]
  },
  {
   "cell_type": "code",
   "execution_count": 1,
   "metadata": {
    "ExecuteTime": {
     "end_time": "2018-03-04T11:46:32.615160Z",
     "start_time": "2018-03-04T11:46:32.609466Z"
    }
   },
   "outputs": [],
   "source": [
    "from __future__ import print_function\n",
    "\n",
    "import os\n",
    "import sys"
   ]
  },
  {
   "cell_type": "code",
   "execution_count": 2,
   "metadata": {
    "ExecuteTime": {
     "end_time": "2018-03-04T11:46:33.627416Z",
     "start_time": "2018-03-04T11:46:33.621834Z"
    },
    "init_cell": false
   },
   "outputs": [],
   "source": [
    "import warnings\n",
    "\n",
    "warnings.simplefilter(\"ignore\")\n",
    "warnings.filterwarnings(\"ignore\", \"DeprecationWarning\")\n",
    "warnings.filterwarnings(\"ignore\", \"SAWarning\")"
   ]
  },
  {
   "cell_type": "code",
   "execution_count": 3,
   "metadata": {
    "ExecuteTime": {
     "end_time": "2018-03-04T11:46:34.604182Z",
     "start_time": "2018-03-04T11:46:34.437456Z"
    },
    "init_cell": false
   },
   "outputs": [],
   "source": [
    "import collections\n",
    "import random\n",
    "from collections import *\n",
    "\n",
    "import numpy as np\n",
    "import pandas as pd\n",
    "import csv\n",
    "import pandavro as pdx"
   ]
  },
  {
   "cell_type": "code",
   "execution_count": 4,
   "metadata": {
    "ExecuteTime": {
     "end_time": "2018-03-04T11:46:37.113439Z",
     "start_time": "2018-03-04T11:46:37.106285Z"
    }
   },
   "outputs": [],
   "source": [
    "import datetime\n",
    "import time\n",
    "import unicodedata\n",
    "from datetime import *\n",
    "\n",
    "from dateutil.relativedelta import relativedelta\n",
    "\n",
    "if sys.version_info[0] >= 3:\n",
    "    unicode = str"
   ]
  },
  {
   "cell_type": "code",
   "execution_count": 5,
   "metadata": {
    "ExecuteTime": {
     "end_time": "2018-03-04T11:46:38.202697Z",
     "start_time": "2018-03-04T11:46:38.117477Z"
    }
   },
   "outputs": [],
   "source": [
    "from faker import Faker\n",
    "from faker_web import WebProvider"
   ]
  },
  {
   "cell_type": "code",
   "execution_count": 6,
   "metadata": {
    "ExecuteTime": {
     "end_time": "2018-03-04T11:46:39.359579Z",
     "start_time": "2018-03-04T11:46:39.287685Z"
    }
   },
   "outputs": [],
   "source": [
    "import tqdm\n",
    "from tqdm import *"
   ]
  },
  {
   "cell_type": "code",
   "execution_count": 7,
   "metadata": {
    "ExecuteTime": {
     "end_time": "2018-03-04T11:46:36.217322Z",
     "start_time": "2018-03-04T11:46:36.205338Z"
    },
    "init_cell": false
   },
   "outputs": [],
   "source": [
    "pd.set_option(\"display.max_columns\", 512)\n",
    "pd.set_option(\"display.max_rows\", 512)\n",
    "pd.set_option(\"display.width\", 1024)\n",
    "pd.set_option(\"display.max_info_rows\", 512)\n",
    "pd.set_option(\"display.expand_frame_repr\", False)\n",
    "pd.set_option(\"mode.chained_assignment\", \"warn\")\n",
    "pd.set_option(\"float_format\", \"{:6.2f}\".format)\n",
    "pd.set_option(\"display.notebook_repr_html\", True)"
   ]
  },
  {
   "cell_type": "markdown",
   "metadata": {},
   "source": [
    "## Instantiate a faker object generator"
   ]
  },
  {
   "cell_type": "code",
   "execution_count": 8,
   "metadata": {
    "ExecuteTime": {
     "end_time": "2018-03-04T11:46:38.202697Z",
     "start_time": "2018-03-04T11:46:38.117477Z"
    }
   },
   "outputs": [],
   "source": [
    "fake = Faker()\n",
    "fake.add_provider(WebProvider)\n",
    "Faker.seed(0)"
   ]
  },
  {
   "cell_type": "markdown",
   "metadata": {},
   "source": [
    "## Restore business keys previously used"
   ]
  },
  {
   "cell_type": "code",
   "execution_count": 9,
   "metadata": {},
   "outputs": [],
   "source": [
    "import pickle\n",
    "\n",
    "ssns = pickle.load(open(\"customer_ssn.p\", \"rb\"))"
   ]
  },
  {
   "cell_type": "markdown",
   "metadata": {},
   "source": [
    "### Set the base path that will be used to persists the data files"
   ]
  },
  {
   "cell_type": "code",
   "execution_count": 10,
   "metadata": {},
   "outputs": [],
   "source": [
    "destBaseDataPath = \"/media/psf/Downloads/performance/data\""
   ]
  },
  {
   "cell_type": "markdown",
   "metadata": {},
   "source": [
    "## Function to generate fake customer data"
   ]
  },
  {
   "cell_type": "code",
   "execution_count": 11,
   "metadata": {
    "ExecuteTime": {
     "end_time": "2018-03-04T11:48:28.968682Z",
     "start_time": "2018-03-04T11:47:09.216471Z"
    },
    "scrolled": true
   },
   "outputs": [],
   "source": [
    "import random\n",
    "\n",
    "\n",
    "def data_gen(count, seed, env):\n",
    "    fakeDataDico = []\n",
    "    fakeDataTuple = []\n",
    "    fakeColumns = OrderedDict()\n",
    "\n",
    "    Faker.seed(seed)\n",
    "    tday = datetime.now().date()\n",
    "\n",
    "    m = datetime.now()\n",
    "    n = datetime(m.year, m.month, m.day, m.hour, m.minute, m.second)\n",
    "    e = datetime(2099, 12, 31, 0, 0, 0)\n",
    "\n",
    "    for _ in tnrange(count, desc=\"Data generator\", leave=True):\n",
    "        ssn = fake.ssn()\n",
    "\n",
    "        if ssn in ssns:\n",
    "            fakeDataDico.append(\n",
    "                OrderedDict(\n",
    "                    {\n",
    "                        \"customer_ssn\": ssn,\n",
    "                        \"customer_job\": None,\n",
    "                        \"customer_job_rank\": random.randint(1, 100),\n",
    "                        \"start_date\": n,\n",
    "                        \"end_date\": e,\n",
    "                        \"is_current\": True,\n",
    "                    }\n",
    "                )\n",
    "            )\n",
    "        else:\n",
    "            fakeDataDico.append(\n",
    "                OrderedDict(\n",
    "                    {\n",
    "                        \"customer_ssn\": ssn,\n",
    "                        \"customer_job\": fake.job(),\n",
    "                        \"customer_job_rank\": 0,\n",
    "                        \"start_date\": n,\n",
    "                        \"end_date\": e,\n",
    "                        \"is_current\": True,\n",
    "                    }\n",
    "                )\n",
    "            )\n",
    "            ssns.append(ssn)\n",
    "\n",
    "    df_0 = pd.DataFrame(data=fakeDataDico)\n",
    "    df = df_0[sorted(df_0.columns)].copy(deep=True)\n",
    "\n",
    "    # -------------------------------------------------------------------------------\n",
    "    # -------------------------------------------------------------------------------\n",
    "    # -------------------------------------------------------------------------------\n",
    "    tmpPath = f\"{destBaseDataPath}/generator_scd_{env}\"\n",
    "\n",
    "    try:\n",
    "        os.makedirs(tmpPath)\n",
    "    except:\n",
    "        print(\"Dir already exists\")\n",
    "        pass\n",
    "    \n",
    "    try:\n",
    "        sys.path.remove(\"{1}/fake_customers_{0:>02}.avro\".format(seed, tmpPath))\n",
    "    except:\n",
    "        print(\"old file has been removed\")\n",
    "        pass\n",
    "      \n",
    "\n",
    "    pdx.to_avro(\n",
    "        \"{1}/_tmp_fake_customers_{0:>02}.avro\".format(seed, tmpPath),\n",
    "        df,\n",
    "    )\n",
    "\n",
    "    os.rename(\n",
    "        \"{1}/_tmp_fake_customers_{0:>02}.avro\".format(seed, tmpPath),\n",
    "        \"{1}/fake_customers_{0:>02}.avro\".format(seed, tmpPath),\n",
    "    )\n",
    "\n",
    "    return df"
   ]
  },
  {
   "cell_type": "markdown",
   "metadata": {
    "tags": []
   },
   "source": [
    "# Loop to generate fake customers files"
   ]
  },
  {
   "cell_type": "markdown",
   "metadata": {},
   "source": [
    "- set how many files will be created\n",
    "- set how many row per file will be generated\n",
    "- set an environment lile \"prd\",..."
   ]
  },
  {
   "cell_type": "code",
   "execution_count": 12,
   "metadata": {},
   "outputs": [],
   "source": [
    "max_file = 1\n",
    "max_row = 15\n",
    "env = \"prd\""
   ]
  },
  {
   "cell_type": "code",
   "execution_count": 13,
   "metadata": {
    "tags": []
   },
   "outputs": [
    {
     "data": {
      "application/vnd.jupyter.widget-view+json": {
       "model_id": "78cb0a722cfd48a583f8b94182827162",
       "version_major": 2,
       "version_minor": 0
      },
      "text/plain": [
       "File generator:   0%|          | 0/1 [00:00<?, ?it/s]"
      ]
     },
     "metadata": {},
     "output_type": "display_data"
    },
    {
     "data": {
      "application/vnd.jupyter.widget-view+json": {
       "model_id": "09f4e7befe424dca9227e18a146f97f0",
       "version_major": 2,
       "version_minor": 0
      },
      "text/plain": [
       "Data generator:   0%|          | 0/15 [00:00<?, ?it/s]"
      ]
     },
     "metadata": {},
     "output_type": "display_data"
    },
    {
     "name": "stdout",
     "output_type": "stream",
     "text": [
      "Dir already exists\n",
      "old file has been removed\n"
     ]
    }
   ],
   "source": [
    "dfx = None\n",
    "for s in tnrange(max_file, desc=\"File generator\"):\n",
    "    dfx = data_gen(max_row, s, env)"
   ]
  },
  {
   "cell_type": "markdown",
   "metadata": {},
   "source": [
    "### persists the generated business keys"
   ]
  },
  {
   "cell_type": "code",
   "execution_count": 14,
   "metadata": {},
   "outputs": [],
   "source": [
    "import pickle\n",
    "\n",
    "pickle.dump(list(set(dfx.customer_ssn.to_list())), open(\"customer_ssn.p\", \"wb\"))"
   ]
  }
 ],
 "metadata": {
  "anaconda-cloud": {},
  "celltoolbar": "Initialisation Cell",
  "hide_input": false,
  "kernelspec": {
   "display_name": "snake38",
   "language": "python",
   "name": "snake38"
  },
  "language_info": {
   "codemirror_mode": {
    "name": "ipython",
    "version": 3
   },
   "file_extension": ".py",
   "mimetype": "text/x-python",
   "name": "python",
   "nbconvert_exporter": "python",
   "pygments_lexer": "ipython3",
   "version": "3.8.12"
  },
  "latex_envs": {
   "LaTeX_envs_menu_present": true,
   "autocomplete": true,
   "bibliofile": "biblio.bib",
   "cite_by": "apalike",
   "current_citInitial": 1,
   "eqLabelWithNumbers": true,
   "eqNumInitial": 1,
   "hotkeys": {
    "equation": "Ctrl-E",
    "itemize": "Ctrl-I"
   },
   "labels_anchors": false,
   "latex_user_defs": false,
   "report_style_numbering": false,
   "user_envs_cfg": false
  },
  "nbTranslate": {
   "displayLangs": [
    "*"
   ],
   "hotkey": "alt-t",
   "langInMainMenu": true,
   "sourceLang": "en",
   "targetLang": "fr",
   "useGoogleTranslate": true
  },
  "notify_time": "5",
  "toc": {
   "nav_menu": {
    "height": "12px",
    "width": "252px"
   },
   "number_sections": true,
   "sideBar": true,
   "skip_h1_title": false,
   "toc_cell": false,
   "toc_position": {
    "height": "1219px",
    "left": "0px",
    "right": "2295px",
    "top": "153px",
    "width": "267px"
   },
   "toc_section_display": "block",
   "toc_window_display": false
  },
  "varInspector": {
   "cols": {
    "lenName": 16,
    "lenType": 16,
    "lenVar": 40
   },
   "kernels_config": {
    "python": {
     "delete_cmd_postfix": "",
     "delete_cmd_prefix": "del ",
     "library": "var_list.py",
     "varRefreshCmd": "print(var_dic_list())"
    },
    "r": {
     "delete_cmd_postfix": ") ",
     "delete_cmd_prefix": "rm(",
     "library": "var_list.r",
     "varRefreshCmd": "cat(var_dic_list()) "
    }
   },
   "types_to_exclude": [
    "module",
    "function",
    "builtin_function_or_method",
    "instance",
    "_Feature"
   ],
   "window_display": false
  }
 },
 "nbformat": 4,
 "nbformat_minor": 4
}
