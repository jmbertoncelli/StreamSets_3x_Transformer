{
 "cells": [
  {
   "cell_type": "markdown",
   "metadata": {},
   "source": [
    "# Set a yaml file with connection secretes using encryption"
   ]
  },
  {
   "cell_type": "code",
   "execution_count": null,
   "metadata": {},
   "outputs": [],
   "source": [
    "import os\n",
    "import sys\n",
    "sys.path.append(\"./libs\")\n",
    "import utilslib as utl"
   ]
  },
  {
   "cell_type": "markdown",
   "metadata": {},
   "source": [
    "## create and set the needed elements"
   ]
  },
  {
   "cell_type": "code",
   "execution_count": null,
   "metadata": {},
   "outputs": [],
   "source": [
    "cfg = utl.Config(\"./config_file_streamsets_sch_trailer.yaml\")\n",
    "\n",
    "cfg.setUrlSch(\"https://trailer.streamsetscloud.com\")\n",
    "cfg.setUrlSdc(\"https://eng-prd-430-001.shared:18630\")\n",
    "cfg.setUrlTx(\"https://eng-tx-000.shared:19630\")\n",
    "cfg.setSdkKey(\"\")\n",
    "cfg.setUser(\"admin@xxxxxxx\")\n",
    "cfg.setPassword(\"xxxxxxxxxx\")\n",
    "cfg.dump()"
   ]
  },
  {
   "cell_type": "code",
   "execution_count": null,
   "metadata": {},
   "outputs": [],
   "source": [
    "import os\n",
    "import sys\n",
    "\n",
    "sys.path.append(\"./libs\")\n",
    "import json\n",
    "import random\n",
    "import uuid\n",
    "import warnings\n",
    "from os import name\n",
    "from random import *\n",
    "from threading import Condition\n",
    "\n",
    "import jobCtrl as jc\n",
    "import streamsets\n",
    "import streamsets.sdk\n",
    "import utilslib as utl\n",
    "from streamsets.sdk import *\n",
    "from streamsets.sdk.config import *\n",
    "from streamsets.sdk.constants import *\n",
    "from streamsets.sdk.examples import *\n",
    "from streamsets.sdk.exceptions import *\n",
    "from streamsets.sdk.models import *\n",
    "from streamsets.sdk.sch import *\n",
    "from streamsets.sdk.sch_api import *\n",
    "from streamsets.sdk.sch_models import *\n",
    "from streamsets.sdk.sdc import *\n",
    "from streamsets.sdk.sdc_models import *\n",
    "from streamsets.sdk.utils import *\n",
    "\n",
    "warnings.filterwarnings(\"ignore\")\n",
    "\n",
    "# ------------------------------------------------\n",
    "cfg = utl.Config(\"./config_file_streamsets_sch_trailer.yaml\")\n",
    "cfg.load()\n",
    "# ------------------------------------------------\n",
    "os.environ[\"STREAMSETS_SDK_ACTIVATION_KEY\"] = cfg.getSdkKey()\n",
    "_BASE_URL_ = cfg.getUrlSch()\n",
    "print(_BASE_URL_)\n",
    "_SDC_URL_ = cfg.getUrlSdc()\n",
    "print(_SDC_URL_)\n",
    "_TX_URL_ = cfg.getUrlTx()\n",
    "print(_TX_URL_)\n",
    "\n",
    "# ------------------------------------------------\n",
    "# ------------------------------------------------\n",
    "# ------------------------------------------------\n",
    "\n",
    "ControlHub.VERIFY_SSL_CERTIFICATES = False\n",
    "DataCollector.VERIFY_SSL_CERTIFICATES = False\n",
    "Transformer.VERIFY_SSL_CERTIFICATES = False\n",
    "control_hub = ControlHub(\n",
    "    cfg.getUrlSch(), username=cfg.getUser(), password=cfg.getPassword()\n",
    ")\n",
    "sdc = DataCollector(cfg.getUrlSdc(), control_hub=control_hub)\n",
    "sdc_authoring = control_hub.data_collectors.get(url=cfg.getUrlSdc())\n",
    "tx = control_hub.transformers.get(url=cfg.getUrlTx())"
   ]
  },
  {
   "cell_type": "markdown",
   "metadata": {},
   "source": [
    "## load the elements to check if it is correct"
   ]
  },
  {
   "cell_type": "code",
   "execution_count": null,
   "metadata": {},
   "outputs": [],
   "source": [
    "cfg.load()\n",
    "print(cfg.getSdkKey())\n",
    "print(cfg.getUrlSch())\n",
    "print(cfg.getUrlSdc())\n",
    "print(cfg.getUrlTx())\n",
    "print(cfg.getUser())\n",
    "print(cfg.getPassword())"
   ]
  },
  {
   "cell_type": "markdown",
   "metadata": {},
   "source": [
    "# Add a cell like the one below when you want to create a new notebook that will set the connection with your StreamSets platform using the secrets"
   ]
  },
  {
   "cell_type": "code",
   "execution_count": null,
   "metadata": {},
   "outputs": [],
   "source": [
    "jobs = [j for j in control_hub.jobs]\n",
    "for job in jobs:\n",
    "    print(job)"
   ]
  },
  {
   "cell_type": "code",
   "execution_count": null,
   "metadata": {},
   "outputs": [],
   "source": []
  }
 ],
 "metadata": {
  "interpreter": {
   "hash": "bfdee6459f8ee003007e311d49fd62f2fa89ef68dfe9c3e0aede05039582e8c1"
  },
  "kernelspec": {
   "display_name": "snake38",
   "language": "python",
   "name": "snake38"
  },
  "language_info": {
   "codemirror_mode": {
    "name": "ipython",
    "version": 3
   },
   "file_extension": ".py",
   "mimetype": "text/x-python",
   "name": "python",
   "nbconvert_exporter": "python",
   "pygments_lexer": "ipython3",
   "version": "3.8.13"
  }
 },
 "nbformat": 4,
 "nbformat_minor": 4
}
